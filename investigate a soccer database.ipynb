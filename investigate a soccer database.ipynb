{
 "cells": [
  {
   "cell_type": "markdown",
   "metadata": {},
   "source": [
    "# Project: Investigate Soccer Database!\n",
    "\n",
    "## Table of Contents\n",
    "<ul>\n",
    "    \n",
    "<li><a href=\"#intro\">Introduction</a></li>\n",
    "<li><a href=\"#wrangling\">Data Wrangling</a></li>\n",
    "<li><a href=\"#eda\">Exploratory Data Analysis</a></li>\n",
    "<li><a href=\"#conclusions\">Conclusions</a></li>\n",
    "</ul>"
   ]
  },
  {
   "cell_type": "markdown",
   "metadata": {},
   "source": [
    "<a id='intro'></a>\n",
    "## Introduction\n",
    "\n",
    "> We will check the soccer dataset for soccer matches from 11 european countries from seasons 2008 to 2016\n",
    "\n",
    "> We have large talbes like match which are include 26,000 match played during 8 years including the match results and each team line up and all match statictics \n",
    "\n",
    "> the second large tabel is the player attribute which include the all registered players and thier skills detailed and overall rating \n",
    "\n",
    "> there's also big tabel for team attribute which include the teams carteristics and abilities \n",
    "\n",
    "> we have another 5 tabels as reference for players, team, countries and league \n",
    "\n",
    "## Question\n",
    "\n",
    "> 1- Who are the top 10 players with highest averaged overall ratings for time period 2008-2016? \n",
    "\n",
    "> 2- How has goal difference changed over seasons for each team? visualize 2 teams as example\n",
    "\n",
    "> 3- Which foot is the most preferred foot among the players?\n"
   ]
  },
  {
   "cell_type": "markdown",
   "metadata": {},
   "source": [
    "## exploring the soccer database"
   ]
  },
  {
   "cell_type": "code",
   "execution_count": 1,
   "metadata": {},
   "outputs": [],
   "source": [
    "#importing the needed package to go on data investigation\n",
    "\n",
    "import pandas as pd\n",
    "import numpy as np\n",
    "import matplotlib.pyplot as plt\n",
    "import seaborn as sns\n",
    "%matplotlib inline "
   ]
  },
  {
   "cell_type": "code",
   "execution_count": 2,
   "metadata": {},
   "outputs": [],
   "source": [
    "# import sqlalchemy to read the database files\n",
    "from sqlalchemy import create_engine "
   ]
  },
  {
   "cell_type": "code",
   "execution_count": 3,
   "metadata": {},
   "outputs": [],
   "source": [
    "engine = create_engine(\"sqlite:///database.sqlite\")\n",
    "conn = engine.connect()"
   ]
  },
  {
   "cell_type": "code",
   "execution_count": 4,
   "metadata": {},
   "outputs": [
    {
     "data": {
      "text/plain": [
       "['Country',\n",
       " 'League',\n",
       " 'Match',\n",
       " 'Player',\n",
       " 'Player_Attributes',\n",
       " 'Team',\n",
       " 'Team_Attributes',\n",
       " 'sqlite_sequence']"
      ]
     },
     "execution_count": 4,
     "metadata": {},
     "output_type": "execute_result"
    }
   ],
   "source": [
    "engine.table_names()"
   ]
  },
  {
   "cell_type": "markdown",
   "metadata": {},
   "source": [
    "<a id='wrangling'></a>\n",
    "## Data Wrangling\n"
   ]
  },
  {
   "cell_type": "code",
   "execution_count": 5,
   "metadata": {},
   "outputs": [
    {
     "data": {
      "text/html": [
       "<div>\n",
       "<style scoped>\n",
       "    .dataframe tbody tr th:only-of-type {\n",
       "        vertical-align: middle;\n",
       "    }\n",
       "\n",
       "    .dataframe tbody tr th {\n",
       "        vertical-align: top;\n",
       "    }\n",
       "\n",
       "    .dataframe thead th {\n",
       "        text-align: right;\n",
       "    }\n",
       "</style>\n",
       "<table border=\"1\" class=\"dataframe\">\n",
       "  <thead>\n",
       "    <tr style=\"text-align: right;\">\n",
       "      <th></th>\n",
       "      <th>country_id</th>\n",
       "      <th>country</th>\n",
       "    </tr>\n",
       "  </thead>\n",
       "  <tbody>\n",
       "    <tr>\n",
       "      <th>0</th>\n",
       "      <td>1</td>\n",
       "      <td>Belgium</td>\n",
       "    </tr>\n",
       "    <tr>\n",
       "      <th>1</th>\n",
       "      <td>1729</td>\n",
       "      <td>England</td>\n",
       "    </tr>\n",
       "    <tr>\n",
       "      <th>2</th>\n",
       "      <td>4769</td>\n",
       "      <td>France</td>\n",
       "    </tr>\n",
       "    <tr>\n",
       "      <th>3</th>\n",
       "      <td>7809</td>\n",
       "      <td>Germany</td>\n",
       "    </tr>\n",
       "    <tr>\n",
       "      <th>4</th>\n",
       "      <td>10257</td>\n",
       "      <td>Italy</td>\n",
       "    </tr>\n",
       "    <tr>\n",
       "      <th>5</th>\n",
       "      <td>13274</td>\n",
       "      <td>Netherlands</td>\n",
       "    </tr>\n",
       "    <tr>\n",
       "      <th>6</th>\n",
       "      <td>15722</td>\n",
       "      <td>Poland</td>\n",
       "    </tr>\n",
       "    <tr>\n",
       "      <th>7</th>\n",
       "      <td>17642</td>\n",
       "      <td>Portugal</td>\n",
       "    </tr>\n",
       "    <tr>\n",
       "      <th>8</th>\n",
       "      <td>19694</td>\n",
       "      <td>Scotland</td>\n",
       "    </tr>\n",
       "    <tr>\n",
       "      <th>9</th>\n",
       "      <td>21518</td>\n",
       "      <td>Spain</td>\n",
       "    </tr>\n",
       "    <tr>\n",
       "      <th>10</th>\n",
       "      <td>24558</td>\n",
       "      <td>Switzerland</td>\n",
       "    </tr>\n",
       "  </tbody>\n",
       "</table>\n",
       "</div>"
      ],
      "text/plain": [
       "    country_id      country\n",
       "0            1      Belgium\n",
       "1         1729      England\n",
       "2         4769       France\n",
       "3         7809      Germany\n",
       "4        10257        Italy\n",
       "5        13274  Netherlands\n",
       "6        15722       Poland\n",
       "7        17642     Portugal\n",
       "8        19694     Scotland\n",
       "9        21518        Spain\n",
       "10       24558  Switzerland"
      ]
     },
     "execution_count": 5,
     "metadata": {},
     "output_type": "execute_result"
    }
   ],
   "source": [
    "# Load your data and print out a few lines. Perform operations to inspect data types and look for instancs of missing or possibly errant data.\n",
    "# read the counrty table and look in its data\n",
    "\n",
    "df_countries = pd.read_sql_query('SELECT * FROM Country', engine)\n",
    "df_countries = df_countries.rename({\"id\":\"country_id\" ,\"name\":\"country\"}, axis=1)\n",
    "df_countries\n"
   ]
  },
  {
   "cell_type": "code",
   "execution_count": 6,
   "metadata": {},
   "outputs": [
    {
     "data": {
      "text/html": [
       "<div>\n",
       "<style scoped>\n",
       "    .dataframe tbody tr th:only-of-type {\n",
       "        vertical-align: middle;\n",
       "    }\n",
       "\n",
       "    .dataframe tbody tr th {\n",
       "        vertical-align: top;\n",
       "    }\n",
       "\n",
       "    .dataframe thead th {\n",
       "        text-align: right;\n",
       "    }\n",
       "</style>\n",
       "<table border=\"1\" class=\"dataframe\">\n",
       "  <thead>\n",
       "    <tr style=\"text-align: right;\">\n",
       "      <th></th>\n",
       "      <th>league_id</th>\n",
       "      <th>country_id</th>\n",
       "      <th>league</th>\n",
       "    </tr>\n",
       "  </thead>\n",
       "  <tbody>\n",
       "    <tr>\n",
       "      <th>0</th>\n",
       "      <td>1</td>\n",
       "      <td>1</td>\n",
       "      <td>Belgium Jupiler League</td>\n",
       "    </tr>\n",
       "    <tr>\n",
       "      <th>1</th>\n",
       "      <td>1729</td>\n",
       "      <td>1729</td>\n",
       "      <td>England Premier League</td>\n",
       "    </tr>\n",
       "  </tbody>\n",
       "</table>\n",
       "</div>"
      ],
      "text/plain": [
       "   league_id  country_id                  league\n",
       "0          1           1  Belgium Jupiler League\n",
       "1       1729        1729  England Premier League"
      ]
     },
     "execution_count": 6,
     "metadata": {},
     "output_type": "execute_result"
    }
   ],
   "source": [
    "# read the league table and look in its data\n",
    "df_league = pd.read_sql_query('SELECT * FROM League', engine)\n",
    "df_league = df_league.rename({'id': 'league_id','name':'league'}, axis=1)\n",
    "df_league.head(2)"
   ]
  },
  {
   "cell_type": "code",
   "execution_count": 7,
   "metadata": {},
   "outputs": [
    {
     "name": "stdout",
     "output_type": "stream",
     "text": [
      "<class 'pandas.core.frame.DataFrame'>\n",
      "RangeIndex: 11 entries, 0 to 10\n",
      "Data columns (total 3 columns):\n",
      "league_id     11 non-null int64\n",
      "country_id    11 non-null int64\n",
      "league        11 non-null object\n",
      "dtypes: int64(2), object(1)\n",
      "memory usage: 344.0+ bytes\n"
     ]
    }
   ],
   "source": [
    "df_league.info()"
   ]
  },
  {
   "cell_type": "code",
   "execution_count": 8,
   "metadata": {},
   "outputs": [
    {
     "data": {
      "text/html": [
       "<div>\n",
       "<style scoped>\n",
       "    .dataframe tbody tr th:only-of-type {\n",
       "        vertical-align: middle;\n",
       "    }\n",
       "\n",
       "    .dataframe tbody tr th {\n",
       "        vertical-align: top;\n",
       "    }\n",
       "\n",
       "    .dataframe thead th {\n",
       "        text-align: right;\n",
       "    }\n",
       "</style>\n",
       "<table border=\"1\" class=\"dataframe\">\n",
       "  <thead>\n",
       "    <tr style=\"text-align: right;\">\n",
       "      <th></th>\n",
       "      <th>player_id</th>\n",
       "      <th>player_api_id</th>\n",
       "      <th>player_name</th>\n",
       "      <th>player_fifa_api_id</th>\n",
       "      <th>birthday</th>\n",
       "      <th>height</th>\n",
       "      <th>weight</th>\n",
       "    </tr>\n",
       "  </thead>\n",
       "  <tbody>\n",
       "    <tr>\n",
       "      <th>0</th>\n",
       "      <td>1</td>\n",
       "      <td>505942</td>\n",
       "      <td>Aaron Appindangoye</td>\n",
       "      <td>218353</td>\n",
       "      <td>1992-02-29 00:00:00</td>\n",
       "      <td>182.88</td>\n",
       "      <td>187</td>\n",
       "    </tr>\n",
       "    <tr>\n",
       "      <th>1</th>\n",
       "      <td>2</td>\n",
       "      <td>155782</td>\n",
       "      <td>Aaron Cresswell</td>\n",
       "      <td>189615</td>\n",
       "      <td>1989-12-15 00:00:00</td>\n",
       "      <td>170.18</td>\n",
       "      <td>146</td>\n",
       "    </tr>\n",
       "  </tbody>\n",
       "</table>\n",
       "</div>"
      ],
      "text/plain": [
       "   player_id  player_api_id         player_name  player_fifa_api_id  \\\n",
       "0          1         505942  Aaron Appindangoye              218353   \n",
       "1          2         155782     Aaron Cresswell              189615   \n",
       "\n",
       "              birthday  height  weight  \n",
       "0  1992-02-29 00:00:00  182.88     187  \n",
       "1  1989-12-15 00:00:00  170.18     146  "
      ]
     },
     "execution_count": 8,
     "metadata": {},
     "output_type": "execute_result"
    }
   ],
   "source": [
    "# read the player table and look in its data\n",
    "\n",
    "df_player = pd.read_sql_query('SELECT * FROM Player', engine)\n",
    "df_player = df_player.rename({'id':'player_id'}, axis=1)\n",
    "df_player.head(2)"
   ]
  },
  {
   "cell_type": "code",
   "execution_count": 9,
   "metadata": {},
   "outputs": [
    {
     "name": "stdout",
     "output_type": "stream",
     "text": [
      "<class 'pandas.core.frame.DataFrame'>\n",
      "RangeIndex: 11060 entries, 0 to 11059\n",
      "Data columns (total 7 columns):\n",
      "player_id             11060 non-null int64\n",
      "player_api_id         11060 non-null int64\n",
      "player_name           11060 non-null object\n",
      "player_fifa_api_id    11060 non-null int64\n",
      "birthday              11060 non-null object\n",
      "height                11060 non-null float64\n",
      "weight                11060 non-null int64\n",
      "dtypes: float64(1), int64(4), object(2)\n",
      "memory usage: 604.9+ KB\n"
     ]
    }
   ],
   "source": [
    "df_player.info()"
   ]
  },
  {
   "cell_type": "code",
   "execution_count": 10,
   "metadata": {},
   "outputs": [
    {
     "data": {
      "text/html": [
       "<div>\n",
       "<style scoped>\n",
       "    .dataframe tbody tr th:only-of-type {\n",
       "        vertical-align: middle;\n",
       "    }\n",
       "\n",
       "    .dataframe tbody tr th {\n",
       "        vertical-align: top;\n",
       "    }\n",
       "\n",
       "    .dataframe thead th {\n",
       "        text-align: right;\n",
       "    }\n",
       "</style>\n",
       "<table border=\"1\" class=\"dataframe\">\n",
       "  <thead>\n",
       "    <tr style=\"text-align: right;\">\n",
       "      <th></th>\n",
       "      <th>player_id</th>\n",
       "      <th>player_fifa_api_id</th>\n",
       "      <th>player_api_id</th>\n",
       "      <th>date</th>\n",
       "      <th>overall_rating</th>\n",
       "      <th>potential</th>\n",
       "      <th>preferred_foot</th>\n",
       "      <th>attacking_work_rate</th>\n",
       "      <th>defensive_work_rate</th>\n",
       "      <th>crossing</th>\n",
       "      <th>...</th>\n",
       "      <th>vision</th>\n",
       "      <th>penalties</th>\n",
       "      <th>marking</th>\n",
       "      <th>standing_tackle</th>\n",
       "      <th>sliding_tackle</th>\n",
       "      <th>gk_diving</th>\n",
       "      <th>gk_handling</th>\n",
       "      <th>gk_kicking</th>\n",
       "      <th>gk_positioning</th>\n",
       "      <th>gk_reflexes</th>\n",
       "    </tr>\n",
       "  </thead>\n",
       "  <tbody>\n",
       "    <tr>\n",
       "      <th>0</th>\n",
       "      <td>1</td>\n",
       "      <td>218353</td>\n",
       "      <td>505942</td>\n",
       "      <td>2016-02-18 00:00:00</td>\n",
       "      <td>67.0</td>\n",
       "      <td>71.0</td>\n",
       "      <td>right</td>\n",
       "      <td>medium</td>\n",
       "      <td>medium</td>\n",
       "      <td>49.0</td>\n",
       "      <td>...</td>\n",
       "      <td>54.0</td>\n",
       "      <td>48.0</td>\n",
       "      <td>65.0</td>\n",
       "      <td>69.0</td>\n",
       "      <td>69.0</td>\n",
       "      <td>6.0</td>\n",
       "      <td>11.0</td>\n",
       "      <td>10.0</td>\n",
       "      <td>8.0</td>\n",
       "      <td>8.0</td>\n",
       "    </tr>\n",
       "    <tr>\n",
       "      <th>1</th>\n",
       "      <td>2</td>\n",
       "      <td>218353</td>\n",
       "      <td>505942</td>\n",
       "      <td>2015-11-19 00:00:00</td>\n",
       "      <td>67.0</td>\n",
       "      <td>71.0</td>\n",
       "      <td>right</td>\n",
       "      <td>medium</td>\n",
       "      <td>medium</td>\n",
       "      <td>49.0</td>\n",
       "      <td>...</td>\n",
       "      <td>54.0</td>\n",
       "      <td>48.0</td>\n",
       "      <td>65.0</td>\n",
       "      <td>69.0</td>\n",
       "      <td>69.0</td>\n",
       "      <td>6.0</td>\n",
       "      <td>11.0</td>\n",
       "      <td>10.0</td>\n",
       "      <td>8.0</td>\n",
       "      <td>8.0</td>\n",
       "    </tr>\n",
       "  </tbody>\n",
       "</table>\n",
       "<p>2 rows × 42 columns</p>\n",
       "</div>"
      ],
      "text/plain": [
       "   player_id  player_fifa_api_id  player_api_id                 date  \\\n",
       "0          1              218353         505942  2016-02-18 00:00:00   \n",
       "1          2              218353         505942  2015-11-19 00:00:00   \n",
       "\n",
       "   overall_rating  potential preferred_foot attacking_work_rate  \\\n",
       "0            67.0       71.0          right              medium   \n",
       "1            67.0       71.0          right              medium   \n",
       "\n",
       "  defensive_work_rate  crossing     ...       vision  penalties  marking  \\\n",
       "0              medium      49.0     ...         54.0       48.0     65.0   \n",
       "1              medium      49.0     ...         54.0       48.0     65.0   \n",
       "\n",
       "   standing_tackle  sliding_tackle  gk_diving  gk_handling  gk_kicking  \\\n",
       "0             69.0            69.0        6.0         11.0        10.0   \n",
       "1             69.0            69.0        6.0         11.0        10.0   \n",
       "\n",
       "   gk_positioning  gk_reflexes  \n",
       "0             8.0          8.0  \n",
       "1             8.0          8.0  \n",
       "\n",
       "[2 rows x 42 columns]"
      ]
     },
     "execution_count": 10,
     "metadata": {},
     "output_type": "execute_result"
    }
   ],
   "source": [
    "# read the player attributes table and look in its data\n",
    "\n",
    "df_Player_Attributes = pd.read_sql_query('SELECT * FROM Player_Attributes', engine)\n",
    "df_Player_Attributes = df_Player_Attributes.rename({'id':'player_id'},axis=1)\n",
    "\n",
    "df_Player_Attributes.head(2)"
   ]
  },
  {
   "cell_type": "code",
   "execution_count": 74,
   "metadata": {},
   "outputs": [],
   "source": [
    "# Create Function to show the columns title on each tabel\n",
    "def col(df):\n",
    "    for x in df.columns:\n",
    "        print(x)\n",
    "         "
   ]
  },
  {
   "cell_type": "code",
   "execution_count": 75,
   "metadata": {},
   "outputs": [
    {
     "name": "stdout",
     "output_type": "stream",
     "text": [
      "player_id\n",
      "player_fifa_api_id\n",
      "player_api_id\n",
      "date\n",
      "overall_rating\n",
      "potential\n",
      "preferred_foot\n",
      "attacking_work_rate\n",
      "defensive_work_rate\n",
      "crossing\n",
      "finishing\n",
      "heading_accuracy\n",
      "short_passing\n",
      "volleys\n",
      "dribbling\n",
      "curve\n",
      "free_kick_accuracy\n",
      "long_passing\n",
      "ball_control\n",
      "acceleration\n",
      "sprint_speed\n",
      "agility\n",
      "reactions\n",
      "balance\n",
      "shot_power\n",
      "jumping\n",
      "stamina\n",
      "strength\n",
      "long_shots\n",
      "aggression\n",
      "interceptions\n",
      "positioning\n",
      "vision\n",
      "penalties\n",
      "marking\n",
      "standing_tackle\n",
      "sliding_tackle\n",
      "gk_diving\n",
      "gk_handling\n",
      "gk_kicking\n",
      "gk_positioning\n",
      "gk_reflexes\n"
     ]
    }
   ],
   "source": [
    "# show the columns on player attribues table\n",
    "col(df_Player_Attributes)"
   ]
  },
  {
   "cell_type": "code",
   "execution_count": 12,
   "metadata": {},
   "outputs": [
    {
     "data": {
      "text/html": [
       "<div>\n",
       "<style scoped>\n",
       "    .dataframe tbody tr th:only-of-type {\n",
       "        vertical-align: middle;\n",
       "    }\n",
       "\n",
       "    .dataframe tbody tr th {\n",
       "        vertical-align: top;\n",
       "    }\n",
       "\n",
       "    .dataframe thead th {\n",
       "        text-align: right;\n",
       "    }\n",
       "</style>\n",
       "<table border=\"1\" class=\"dataframe\">\n",
       "  <thead>\n",
       "    <tr style=\"text-align: right;\">\n",
       "      <th></th>\n",
       "      <th>team_id</th>\n",
       "      <th>team_api_id</th>\n",
       "      <th>team_fifa_api_id</th>\n",
       "      <th>team_long_name</th>\n",
       "      <th>team_short_name</th>\n",
       "    </tr>\n",
       "  </thead>\n",
       "  <tbody>\n",
       "    <tr>\n",
       "      <th>0</th>\n",
       "      <td>1</td>\n",
       "      <td>9987</td>\n",
       "      <td>673.0</td>\n",
       "      <td>KRC Genk</td>\n",
       "      <td>GEN</td>\n",
       "    </tr>\n",
       "    <tr>\n",
       "      <th>1</th>\n",
       "      <td>2</td>\n",
       "      <td>9993</td>\n",
       "      <td>675.0</td>\n",
       "      <td>Beerschot AC</td>\n",
       "      <td>BAC</td>\n",
       "    </tr>\n",
       "  </tbody>\n",
       "</table>\n",
       "</div>"
      ],
      "text/plain": [
       "   team_id  team_api_id  team_fifa_api_id team_long_name team_short_name\n",
       "0        1         9987             673.0       KRC Genk             GEN\n",
       "1        2         9993             675.0   Beerschot AC             BAC"
      ]
     },
     "execution_count": 12,
     "metadata": {},
     "output_type": "execute_result"
    }
   ],
   "source": [
    "# read the teams table and look in its data\n",
    "\n",
    "df_team = pd.read_sql_query('SELECT * FROM Team', engine)\n",
    "df_team = df_team.rename({'id':'team_id'}, axis=1)\n",
    "df_team.head(2)"
   ]
  },
  {
   "cell_type": "code",
   "execution_count": 13,
   "metadata": {},
   "outputs": [
    {
     "name": "stdout",
     "output_type": "stream",
     "text": [
      "<class 'pandas.core.frame.DataFrame'>\n",
      "RangeIndex: 299 entries, 0 to 298\n",
      "Data columns (total 5 columns):\n",
      "team_id             299 non-null int64\n",
      "team_api_id         299 non-null int64\n",
      "team_fifa_api_id    288 non-null float64\n",
      "team_long_name      299 non-null object\n",
      "team_short_name     299 non-null object\n",
      "dtypes: float64(1), int64(2), object(2)\n",
      "memory usage: 11.8+ KB\n"
     ]
    }
   ],
   "source": [
    "df_team.info()"
   ]
  },
  {
   "cell_type": "code",
   "execution_count": 14,
   "metadata": {},
   "outputs": [
    {
     "data": {
      "text/html": [
       "<div>\n",
       "<style scoped>\n",
       "    .dataframe tbody tr th:only-of-type {\n",
       "        vertical-align: middle;\n",
       "    }\n",
       "\n",
       "    .dataframe tbody tr th {\n",
       "        vertical-align: top;\n",
       "    }\n",
       "\n",
       "    .dataframe thead th {\n",
       "        text-align: right;\n",
       "    }\n",
       "</style>\n",
       "<table border=\"1\" class=\"dataframe\">\n",
       "  <thead>\n",
       "    <tr style=\"text-align: right;\">\n",
       "      <th></th>\n",
       "      <th>team_id</th>\n",
       "      <th>team_fifa_api_id</th>\n",
       "      <th>team_api_id</th>\n",
       "      <th>date</th>\n",
       "      <th>buildUpPlaySpeed</th>\n",
       "      <th>buildUpPlaySpeedClass</th>\n",
       "      <th>buildUpPlayDribbling</th>\n",
       "      <th>buildUpPlayDribblingClass</th>\n",
       "      <th>buildUpPlayPassing</th>\n",
       "      <th>buildUpPlayPassingClass</th>\n",
       "      <th>...</th>\n",
       "      <th>chanceCreationShooting</th>\n",
       "      <th>chanceCreationShootingClass</th>\n",
       "      <th>chanceCreationPositioningClass</th>\n",
       "      <th>defencePressure</th>\n",
       "      <th>defencePressureClass</th>\n",
       "      <th>defenceAggression</th>\n",
       "      <th>defenceAggressionClass</th>\n",
       "      <th>defenceTeamWidth</th>\n",
       "      <th>defenceTeamWidthClass</th>\n",
       "      <th>defenceDefenderLineClass</th>\n",
       "    </tr>\n",
       "  </thead>\n",
       "  <tbody>\n",
       "    <tr>\n",
       "      <th>0</th>\n",
       "      <td>1</td>\n",
       "      <td>434</td>\n",
       "      <td>9930</td>\n",
       "      <td>2010-02-22 00:00:00</td>\n",
       "      <td>60</td>\n",
       "      <td>Balanced</td>\n",
       "      <td>NaN</td>\n",
       "      <td>Little</td>\n",
       "      <td>50</td>\n",
       "      <td>Mixed</td>\n",
       "      <td>...</td>\n",
       "      <td>55</td>\n",
       "      <td>Normal</td>\n",
       "      <td>Organised</td>\n",
       "      <td>50</td>\n",
       "      <td>Medium</td>\n",
       "      <td>55</td>\n",
       "      <td>Press</td>\n",
       "      <td>45</td>\n",
       "      <td>Normal</td>\n",
       "      <td>Cover</td>\n",
       "    </tr>\n",
       "    <tr>\n",
       "      <th>1</th>\n",
       "      <td>2</td>\n",
       "      <td>434</td>\n",
       "      <td>9930</td>\n",
       "      <td>2014-09-19 00:00:00</td>\n",
       "      <td>52</td>\n",
       "      <td>Balanced</td>\n",
       "      <td>48.0</td>\n",
       "      <td>Normal</td>\n",
       "      <td>56</td>\n",
       "      <td>Mixed</td>\n",
       "      <td>...</td>\n",
       "      <td>64</td>\n",
       "      <td>Normal</td>\n",
       "      <td>Organised</td>\n",
       "      <td>47</td>\n",
       "      <td>Medium</td>\n",
       "      <td>44</td>\n",
       "      <td>Press</td>\n",
       "      <td>54</td>\n",
       "      <td>Normal</td>\n",
       "      <td>Cover</td>\n",
       "    </tr>\n",
       "  </tbody>\n",
       "</table>\n",
       "<p>2 rows × 25 columns</p>\n",
       "</div>"
      ],
      "text/plain": [
       "   team_id  team_fifa_api_id  team_api_id                 date  \\\n",
       "0        1               434         9930  2010-02-22 00:00:00   \n",
       "1        2               434         9930  2014-09-19 00:00:00   \n",
       "\n",
       "   buildUpPlaySpeed buildUpPlaySpeedClass  buildUpPlayDribbling  \\\n",
       "0                60              Balanced                   NaN   \n",
       "1                52              Balanced                  48.0   \n",
       "\n",
       "  buildUpPlayDribblingClass  buildUpPlayPassing buildUpPlayPassingClass  \\\n",
       "0                    Little                  50                   Mixed   \n",
       "1                    Normal                  56                   Mixed   \n",
       "\n",
       "            ...            chanceCreationShooting  \\\n",
       "0           ...                                55   \n",
       "1           ...                                64   \n",
       "\n",
       "   chanceCreationShootingClass chanceCreationPositioningClass  \\\n",
       "0                       Normal                      Organised   \n",
       "1                       Normal                      Organised   \n",
       "\n",
       "   defencePressure defencePressureClass  defenceAggression  \\\n",
       "0               50               Medium                 55   \n",
       "1               47               Medium                 44   \n",
       "\n",
       "  defenceAggressionClass defenceTeamWidth  defenceTeamWidthClass  \\\n",
       "0                  Press               45                 Normal   \n",
       "1                  Press               54                 Normal   \n",
       "\n",
       "  defenceDefenderLineClass  \n",
       "0                    Cover  \n",
       "1                    Cover  \n",
       "\n",
       "[2 rows x 25 columns]"
      ]
     },
     "execution_count": 14,
     "metadata": {},
     "output_type": "execute_result"
    }
   ],
   "source": [
    "# read the teams attributes table and look in its data\n",
    "\n",
    "df_Team_Attributes = pd.read_sql_query('SELECT * FROM Team_Attributes', engine)\n",
    "df_Team_Attributes = df_Team_Attributes.rename({'id':'team_id'}, axis=1)\n",
    "df_Team_Attributes.head(2)"
   ]
  },
  {
   "cell_type": "code",
   "execution_count": 76,
   "metadata": {},
   "outputs": [
    {
     "name": "stdout",
     "output_type": "stream",
     "text": [
      "team_id\n",
      "team_fifa_api_id\n",
      "team_api_id\n",
      "date\n",
      "buildUpPlaySpeed\n",
      "buildUpPlaySpeedClass\n",
      "buildUpPlayDribbling\n",
      "buildUpPlayDribblingClass\n",
      "buildUpPlayPassing\n",
      "buildUpPlayPassingClass\n",
      "buildUpPlayPositioningClass\n",
      "chanceCreationPassing\n",
      "chanceCreationPassingClass\n",
      "chanceCreationCrossing\n",
      "chanceCreationCrossingClass\n",
      "chanceCreationShooting\n",
      "chanceCreationShootingClass\n",
      "chanceCreationPositioningClass\n",
      "defencePressure\n",
      "defencePressureClass\n",
      "defenceAggression\n",
      "defenceAggressionClass\n",
      "defenceTeamWidth\n",
      "defenceTeamWidthClass\n",
      "defenceDefenderLineClass\n"
     ]
    }
   ],
   "source": [
    "col(df_Team_Attributes)"
   ]
  },
  {
   "cell_type": "code",
   "execution_count": 17,
   "metadata": {},
   "outputs": [
    {
     "data": {
      "text/plain": [
       "team_id                             0\n",
       "team_fifa_api_id                    0\n",
       "team_api_id                         0\n",
       "date                                0\n",
       "buildUpPlaySpeed                    0\n",
       "buildUpPlaySpeedClass               0\n",
       "buildUpPlayDribbling              969\n",
       "buildUpPlayDribblingClass           0\n",
       "buildUpPlayPassing                  0\n",
       "buildUpPlayPassingClass             0\n",
       "buildUpPlayPositioningClass         0\n",
       "chanceCreationPassing               0\n",
       "chanceCreationPassingClass          0\n",
       "chanceCreationCrossing              0\n",
       "chanceCreationCrossingClass         0\n",
       "chanceCreationShooting              0\n",
       "chanceCreationShootingClass         0\n",
       "chanceCreationPositioningClass      0\n",
       "defencePressure                     0\n",
       "defencePressureClass                0\n",
       "defenceAggression                   0\n",
       "defenceAggressionClass              0\n",
       "defenceTeamWidth                    0\n",
       "defenceTeamWidthClass               0\n",
       "defenceDefenderLineClass            0\n",
       "dtype: int64"
      ]
     },
     "execution_count": 17,
     "metadata": {},
     "output_type": "execute_result"
    }
   ],
   "source": [
    "df_Team_Attributes.isnull().sum()"
   ]
  },
  {
   "cell_type": "code",
   "execution_count": 78,
   "metadata": {},
   "outputs": [
    {
     "data": {
      "text/html": [
       "<div>\n",
       "<style scoped>\n",
       "    .dataframe tbody tr th:only-of-type {\n",
       "        vertical-align: middle;\n",
       "    }\n",
       "\n",
       "    .dataframe tbody tr th {\n",
       "        vertical-align: top;\n",
       "    }\n",
       "\n",
       "    .dataframe thead th {\n",
       "        text-align: right;\n",
       "    }\n",
       "</style>\n",
       "<table border=\"1\" class=\"dataframe\">\n",
       "  <thead>\n",
       "    <tr style=\"text-align: right;\">\n",
       "      <th></th>\n",
       "      <th>id</th>\n",
       "      <th>country_id</th>\n",
       "      <th>league_id</th>\n",
       "      <th>season</th>\n",
       "      <th>stage</th>\n",
       "      <th>date</th>\n",
       "      <th>match_api_id</th>\n",
       "      <th>home_team_api_id</th>\n",
       "      <th>away_team_api_id</th>\n",
       "      <th>home_team_goal</th>\n",
       "      <th>...</th>\n",
       "      <th>SJA</th>\n",
       "      <th>VCH</th>\n",
       "      <th>VCD</th>\n",
       "      <th>VCA</th>\n",
       "      <th>GBH</th>\n",
       "      <th>GBD</th>\n",
       "      <th>GBA</th>\n",
       "      <th>BSH</th>\n",
       "      <th>BSD</th>\n",
       "      <th>BSA</th>\n",
       "    </tr>\n",
       "  </thead>\n",
       "  <tbody>\n",
       "    <tr>\n",
       "      <th>0</th>\n",
       "      <td>1</td>\n",
       "      <td>1</td>\n",
       "      <td>1</td>\n",
       "      <td>2008/2009</td>\n",
       "      <td>1</td>\n",
       "      <td>2008-08-17 00:00:00</td>\n",
       "      <td>492473</td>\n",
       "      <td>9987</td>\n",
       "      <td>9993</td>\n",
       "      <td>1</td>\n",
       "      <td>...</td>\n",
       "      <td>4.0</td>\n",
       "      <td>1.65</td>\n",
       "      <td>3.40</td>\n",
       "      <td>4.50</td>\n",
       "      <td>1.78</td>\n",
       "      <td>3.25</td>\n",
       "      <td>4.00</td>\n",
       "      <td>1.73</td>\n",
       "      <td>3.40</td>\n",
       "      <td>4.2</td>\n",
       "    </tr>\n",
       "    <tr>\n",
       "      <th>1</th>\n",
       "      <td>2</td>\n",
       "      <td>1</td>\n",
       "      <td>1</td>\n",
       "      <td>2008/2009</td>\n",
       "      <td>1</td>\n",
       "      <td>2008-08-16 00:00:00</td>\n",
       "      <td>492474</td>\n",
       "      <td>10000</td>\n",
       "      <td>9994</td>\n",
       "      <td>0</td>\n",
       "      <td>...</td>\n",
       "      <td>3.8</td>\n",
       "      <td>2.00</td>\n",
       "      <td>3.25</td>\n",
       "      <td>3.25</td>\n",
       "      <td>1.85</td>\n",
       "      <td>3.25</td>\n",
       "      <td>3.75</td>\n",
       "      <td>1.91</td>\n",
       "      <td>3.25</td>\n",
       "      <td>3.6</td>\n",
       "    </tr>\n",
       "  </tbody>\n",
       "</table>\n",
       "<p>2 rows × 115 columns</p>\n",
       "</div>"
      ],
      "text/plain": [
       "   id  country_id  league_id     season  stage                 date  \\\n",
       "0   1           1          1  2008/2009      1  2008-08-17 00:00:00   \n",
       "1   2           1          1  2008/2009      1  2008-08-16 00:00:00   \n",
       "\n",
       "   match_api_id  home_team_api_id  away_team_api_id  home_team_goal ...   SJA  \\\n",
       "0        492473              9987              9993               1 ...   4.0   \n",
       "1        492474             10000              9994               0 ...   3.8   \n",
       "\n",
       "    VCH   VCD   VCA   GBH   GBD   GBA   BSH   BSD  BSA  \n",
       "0  1.65  3.40  4.50  1.78  3.25  4.00  1.73  3.40  4.2  \n",
       "1  2.00  3.25  3.25  1.85  3.25  3.75  1.91  3.25  3.6  \n",
       "\n",
       "[2 rows x 115 columns]"
      ]
     },
     "execution_count": 78,
     "metadata": {},
     "output_type": "execute_result"
    }
   ],
   "source": [
    "# read the match table and look in its data\n",
    "\n",
    "df_match = pd.read_sql_query('SELECT * FROM Match', engine)\n",
    "df_match.head(2)"
   ]
  },
  {
   "cell_type": "code",
   "execution_count": 79,
   "metadata": {},
   "outputs": [
    {
     "name": "stdout",
     "output_type": "stream",
     "text": [
      "id\n",
      "country_id\n",
      "league_id\n",
      "season\n",
      "stage\n",
      "date\n",
      "match_api_id\n",
      "home_team_api_id\n",
      "away_team_api_id\n",
      "home_team_goal\n",
      "away_team_goal\n",
      "home_player_X1\n",
      "home_player_X2\n",
      "home_player_X3\n",
      "home_player_X4\n",
      "home_player_X5\n",
      "home_player_X6\n",
      "home_player_X7\n",
      "home_player_X8\n",
      "home_player_X9\n",
      "home_player_X10\n",
      "home_player_X11\n",
      "away_player_X1\n",
      "away_player_X2\n",
      "away_player_X3\n",
      "away_player_X4\n",
      "away_player_X5\n",
      "away_player_X6\n",
      "away_player_X7\n",
      "away_player_X8\n",
      "away_player_X9\n",
      "away_player_X10\n",
      "away_player_X11\n",
      "home_player_Y1\n",
      "home_player_Y2\n",
      "home_player_Y3\n",
      "home_player_Y4\n",
      "home_player_Y5\n",
      "home_player_Y6\n",
      "home_player_Y7\n",
      "home_player_Y8\n",
      "home_player_Y9\n",
      "home_player_Y10\n",
      "home_player_Y11\n",
      "away_player_Y1\n",
      "away_player_Y2\n",
      "away_player_Y3\n",
      "away_player_Y4\n",
      "away_player_Y5\n",
      "away_player_Y6\n",
      "away_player_Y7\n",
      "away_player_Y8\n",
      "away_player_Y9\n",
      "away_player_Y10\n",
      "away_player_Y11\n",
      "home_player_1\n",
      "home_player_2\n",
      "home_player_3\n",
      "home_player_4\n",
      "home_player_5\n",
      "home_player_6\n",
      "home_player_7\n",
      "home_player_8\n",
      "home_player_9\n",
      "home_player_10\n",
      "home_player_11\n",
      "away_player_1\n",
      "away_player_2\n",
      "away_player_3\n",
      "away_player_4\n",
      "away_player_5\n",
      "away_player_6\n",
      "away_player_7\n",
      "away_player_8\n",
      "away_player_9\n",
      "away_player_10\n",
      "away_player_11\n",
      "goal\n",
      "shoton\n",
      "shotoff\n",
      "foulcommit\n",
      "card\n",
      "cross\n",
      "corner\n",
      "possession\n",
      "B365H\n",
      "B365D\n",
      "B365A\n",
      "BWH\n",
      "BWD\n",
      "BWA\n",
      "IWH\n",
      "IWD\n",
      "IWA\n",
      "LBH\n",
      "LBD\n",
      "LBA\n",
      "PSH\n",
      "PSD\n",
      "PSA\n",
      "WHH\n",
      "WHD\n",
      "WHA\n",
      "SJH\n",
      "SJD\n",
      "SJA\n",
      "VCH\n",
      "VCD\n",
      "VCA\n",
      "GBH\n",
      "GBD\n",
      "GBA\n",
      "BSH\n",
      "BSD\n",
      "BSA\n"
     ]
    }
   ],
   "source": [
    "col(df_match)"
   ]
  },
  {
   "cell_type": "code",
   "execution_count": 80,
   "metadata": {},
   "outputs": [
    {
     "data": {
      "text/html": [
       "<div>\n",
       "<style scoped>\n",
       "    .dataframe tbody tr th:only-of-type {\n",
       "        vertical-align: middle;\n",
       "    }\n",
       "\n",
       "    .dataframe tbody tr th {\n",
       "        vertical-align: top;\n",
       "    }\n",
       "\n",
       "    .dataframe thead th {\n",
       "        text-align: right;\n",
       "    }\n",
       "</style>\n",
       "<table border=\"1\" class=\"dataframe\">\n",
       "  <thead>\n",
       "    <tr style=\"text-align: right;\">\n",
       "      <th></th>\n",
       "      <th>id</th>\n",
       "      <th>country_id</th>\n",
       "      <th>league_id</th>\n",
       "      <th>season</th>\n",
       "      <th>stage</th>\n",
       "      <th>date</th>\n",
       "      <th>match_api_id</th>\n",
       "      <th>home_team_api_id</th>\n",
       "      <th>away_team_api_id</th>\n",
       "      <th>home_team_goal</th>\n",
       "      <th>away_team_goal</th>\n",
       "    </tr>\n",
       "  </thead>\n",
       "  <tbody>\n",
       "    <tr>\n",
       "      <th>0</th>\n",
       "      <td>1</td>\n",
       "      <td>1</td>\n",
       "      <td>1</td>\n",
       "      <td>2008/2009</td>\n",
       "      <td>1</td>\n",
       "      <td>2008-08-17 00:00:00</td>\n",
       "      <td>492473</td>\n",
       "      <td>9987</td>\n",
       "      <td>9993</td>\n",
       "      <td>1</td>\n",
       "      <td>1</td>\n",
       "    </tr>\n",
       "    <tr>\n",
       "      <th>1</th>\n",
       "      <td>2</td>\n",
       "      <td>1</td>\n",
       "      <td>1</td>\n",
       "      <td>2008/2009</td>\n",
       "      <td>1</td>\n",
       "      <td>2008-08-16 00:00:00</td>\n",
       "      <td>492474</td>\n",
       "      <td>10000</td>\n",
       "      <td>9994</td>\n",
       "      <td>0</td>\n",
       "      <td>0</td>\n",
       "    </tr>\n",
       "  </tbody>\n",
       "</table>\n",
       "</div>"
      ],
      "text/plain": [
       "   id  country_id  league_id     season  stage                 date  \\\n",
       "0   1           1          1  2008/2009      1  2008-08-17 00:00:00   \n",
       "1   2           1          1  2008/2009      1  2008-08-16 00:00:00   \n",
       "\n",
       "   match_api_id  home_team_api_id  away_team_api_id  home_team_goal  \\\n",
       "0        492473              9987              9993               1   \n",
       "1        492474             10000              9994               0   \n",
       "\n",
       "   away_team_goal  \n",
       "0               1  \n",
       "1               0  "
      ]
     },
     "execution_count": 80,
     "metadata": {},
     "output_type": "execute_result"
    }
   ],
   "source": [
    "# read the match table (select only needed columns to answer our questions) and look in its data\n",
    "\n",
    "df_match = pd.read_sql_query('SELECT id,country_id,league_id,season,stage,date,match_api_id,home_team_api_id,away_team_api_id,home_team_goal,away_team_goal  FROM Match', engine)\n",
    "df_match.head(2)"
   ]
  },
  {
   "cell_type": "code",
   "execution_count": 81,
   "metadata": {},
   "outputs": [
    {
     "name": "stdout",
     "output_type": "stream",
     "text": [
      "<class 'pandas.core.frame.DataFrame'>\n",
      "RangeIndex: 25979 entries, 0 to 25978\n",
      "Data columns (total 11 columns):\n",
      "id                  25979 non-null int64\n",
      "country_id          25979 non-null int64\n",
      "league_id           25979 non-null int64\n",
      "season              25979 non-null object\n",
      "stage               25979 non-null int64\n",
      "date                25979 non-null object\n",
      "match_api_id        25979 non-null int64\n",
      "home_team_api_id    25979 non-null int64\n",
      "away_team_api_id    25979 non-null int64\n",
      "home_team_goal      25979 non-null int64\n",
      "away_team_goal      25979 non-null int64\n",
      "dtypes: int64(9), object(2)\n",
      "memory usage: 2.2+ MB\n"
     ]
    }
   ],
   "source": [
    "df_match.info()"
   ]
  },
  {
   "cell_type": "markdown",
   "metadata": {},
   "source": [
    "<a id='eda'></a>\n",
    "## Exploratory Data Analysis\n",
    "\n"
   ]
  },
  {
   "cell_type": "markdown",
   "metadata": {
    "collapsed": true
   },
   "source": [
    "## Q1\n",
    "\n",
    "> 1- Who are the top 10 players with highest averaged overall ratings for time period 2008-2016? \n"
   ]
  },
  {
   "cell_type": "code",
   "execution_count": 36,
   "metadata": {},
   "outputs": [],
   "source": [
    "#adding player names to dataframe\n",
    "df_player_name = pd.merge(left=df_Player_Attributes, right=df_player, how='left', left_on='player_id', right_on='player_id')"
   ]
  },
  {
   "cell_type": "code",
   "execution_count": 37,
   "metadata": {},
   "outputs": [
    {
     "data": {
      "text/plain": [
       "player_name\n",
       "Manu Torres        91.0\n",
       "Manu Molina        91.0\n",
       "Fede Vico          89.0\n",
       "Manu Lanzarote     88.0\n",
       "Miguel Portillo    87.0\n",
       "Lorenzo Tonelli    87.0\n",
       "Lorenzo Stovini    87.0\n",
       "Lorenzo Squizzi    87.0\n",
       "Lorenzo Pique      87.0\n",
       "Pedrao             86.0\n",
       "Name: overall_rating, dtype: float64"
      ]
     },
     "execution_count": 37,
     "metadata": {},
     "output_type": "execute_result"
    }
   ],
   "source": [
    "#group by the player name and get the mean of overall rating\n",
    "df_average = df_player_name.groupby('player_name')['overall_rating'].mean()\n",
    "#get the top ten\n",
    "df_average_sorted = df_average.sort_values(ascending=False).head(10)\n",
    "df_average_sorted"
   ]
  },
  {
   "cell_type": "code",
   "execution_count": 38,
   "metadata": {},
   "outputs": [
    {
     "data": {
      "text/plain": [
       "(85, 92)"
      ]
     },
     "execution_count": 38,
     "metadata": {},
     "output_type": "execute_result"
    },
    {
     "data": {
      "image/png": "[encoded data removed]",
      "text/plain": [
       "<matplotlib.figure.Figure at 0x7ff54ce0c080>"
      ]
     },
     "metadata": {
      "needs_background": "light"
     },
     "output_type": "display_data"
    }
   ],
   "source": [
    "df_average_sorted.plot(kind='bar',figsize=[12,4],rot=90)\n",
    "plt.title ('Top Ten OverAll rating player 2008 to 2016')\n",
    "plt.xlabel('Top Players')\n",
    "plt.ylabel('Average OverAll rating')\n",
    "plt.ylim(85,92)"
   ]
  },
  {
   "cell_type": "markdown",
   "metadata": {},
   "source": [
    "## Q2\n",
    "\n",
    "> How has goal difference changed over seasons for each team? visualize 2 teams as example\n"
   ]
  },
  {
   "cell_type": "code",
   "execution_count": 39,
   "metadata": {},
   "outputs": [],
   "source": [
    "#merging the team table to get the teams names\n",
    "df_match_merge_home =  pd.merge(left=df_match, right=df_team, how='left', left_on='home_team_api_id' , right_on='team_api_id')\n",
    "\n",
    "#slicing the data need to record home goals teams id and date\n",
    "df_home_goal = df_match_merge_home[['season',  'home_team_goal', 'team_long_name']]\n",
    "\n",
    "#group the dataframe by the year then by team api id and accumulate goals \n",
    "df_home_goal = df_home_goal.groupby(['team_long_name','season']).sum()\n",
    "\n"
   ]
  },
  {
   "cell_type": "code",
   "execution_count": 40,
   "metadata": {},
   "outputs": [],
   "source": [
    "#merging the team table to get the teams names\n",
    "df_match_merge_away =  pd.merge(left=df_match, right=df_team, how='left', left_on='away_team_api_id' , right_on='team_api_id')\n",
    "\n",
    "#slicing the data need to record away goals teams id and date\n",
    "df_away_goal = df_match_merge_away[['season',  'away_team_goal', 'team_long_name']]\n",
    "\n",
    "#group the dataframe by the year then by team api id and accumulate goals \n",
    "df_away_goal = df_away_goal.groupby(['team_long_name', 'season']).sum()\n",
    "\n",
    "\n"
   ]
  },
  {
   "cell_type": "code",
   "execution_count": 61,
   "metadata": {},
   "outputs": [
    {
     "data": {
      "text/html": [
       "<div>\n",
       "<style scoped>\n",
       "    .dataframe tbody tr th:only-of-type {\n",
       "        vertical-align: middle;\n",
       "    }\n",
       "\n",
       "    .dataframe tbody tr th {\n",
       "        vertical-align: top;\n",
       "    }\n",
       "\n",
       "    .dataframe thead th {\n",
       "        text-align: right;\n",
       "    }\n",
       "</style>\n",
       "<table border=\"1\" class=\"dataframe\">\n",
       "  <thead>\n",
       "    <tr style=\"text-align: right;\">\n",
       "      <th></th>\n",
       "      <th></th>\n",
       "      <th>Total Goals</th>\n",
       "    </tr>\n",
       "    <tr>\n",
       "      <th>team_long_name</th>\n",
       "      <th>season</th>\n",
       "      <th></th>\n",
       "    </tr>\n",
       "  </thead>\n",
       "  <tbody>\n",
       "    <tr>\n",
       "      <th rowspan=\"2\" valign=\"top\">1. FC Kaiserslautern</th>\n",
       "      <th>2010/2011</th>\n",
       "      <td>48</td>\n",
       "    </tr>\n",
       "    <tr>\n",
       "      <th>2011/2012</th>\n",
       "      <td>24</td>\n",
       "    </tr>\n",
       "    <tr>\n",
       "      <th rowspan=\"3\" valign=\"top\">1. FC Köln</th>\n",
       "      <th>2008/2009</th>\n",
       "      <td>35</td>\n",
       "    </tr>\n",
       "    <tr>\n",
       "      <th>2009/2010</th>\n",
       "      <td>33</td>\n",
       "    </tr>\n",
       "    <tr>\n",
       "      <th>2010/2011</th>\n",
       "      <td>47</td>\n",
       "    </tr>\n",
       "  </tbody>\n",
       "</table>\n",
       "</div>"
      ],
      "text/plain": [
       "                                Total Goals\n",
       "team_long_name       season                \n",
       "1. FC Kaiserslautern 2010/2011           48\n",
       "                     2011/2012           24\n",
       "1. FC Köln           2008/2009           35\n",
       "                     2009/2010           33\n",
       "                     2010/2011           47"
      ]
     },
     "execution_count": 61,
     "metadata": {},
     "output_type": "execute_result"
    }
   ],
   "source": [
    "#merging both dataframs to get the total goals(home and away) for each club by year\n",
    "\n",
    "df_total_goal = pd.merge(right=df_away_goal,left=df_home_goal, how='outer', left_on=['team_long_name', 'season'], right_on=['team_long_name', 'season'])\n",
    "\n",
    "df_total_goal['Total Goals'] = df_total_goal['home_team_goal']+ df_total_goal['away_team_goal']\n",
    "\n",
    "df_total_goal = df_total_goal.drop(['home_team_goal', 'away_team_goal'],1)\n",
    "\n",
    "df_total_goal.head()"
   ]
  },
  {
   "cell_type": "code",
   "execution_count": 62,
   "metadata": {},
   "outputs": [
    {
     "data": {
      "text/plain": [
       "Text(0,0.5,'Goal')"
      ]
     },
     "execution_count": 62,
     "metadata": {},
     "output_type": "execute_result"
    },
    {
     "data": {
      "image/png": "[encoded data removed]",
      "text/plain": [
       "<matplotlib.figure.Figure at 0x7ff5524fe0f0>"
      ]
     },
     "metadata": {
      "needs_background": "light"
     },
     "output_type": "display_data"
    }
   ],
   "source": [
    "#Visualize the Total Goals of West Ham United team \n",
    "#slicing west hame data\n",
    "df_west_ham = df_total_goal.loc['West Ham United',:]\n",
    "\n",
    "df_west_ham.plot(kind='bar',rot=90, figsize=(8,6))\n",
    "plt.title('West Ham United goals over seasons')\n",
    "plt.ylabel('Goal')\n"
   ]
  },
  {
   "cell_type": "markdown",
   "metadata": {},
   "source": [
    "## Q3 \n",
    "\n",
    "> Which foot is the most preferred foot among the players?\n"
   ]
  },
  {
   "cell_type": "code",
   "execution_count": 63,
   "metadata": {},
   "outputs": [
    {
     "data": {
      "text/plain": [
       "Text(0,0.5,'number of players')"
      ]
     },
     "execution_count": 63,
     "metadata": {},
     "output_type": "execute_result"
    },
    {
     "data": {
      "image/png": "[encoded data removed]",
      "text/plain": [
       "<matplotlib.figure.Figure at 0x7ff551ce3780>"
      ]
     },
     "metadata": {
      "needs_background": "light"
     },
     "output_type": "display_data"
    }
   ],
   "source": [
    "# Group by the preferred foot column to calcualte the count for each foot \n",
    "\n",
    "df_Player_Attributes.preferred_foot.groupby(df_Player_Attributes.preferred_foot).count().plot(kind='bar')\n",
    "plt.title('Most preferred foot')\n",
    "plt.xlabel('preferred foot')\n",
    "plt.ylabel('number of players')"
   ]
  },
  {
   "cell_type": "markdown",
   "metadata": {},
   "source": [
    "<a id='conclusions'></a>\n",
    "## Conclusions\n",
    "\n",
    "> 1- our analysis show to us top average over all rating and \"Manu Torres\" and \"Manu Molina\" are the best player on thier overall rating during priod 2008 to 2016 \n",
    "\n",
    "> 2- Manchester united we found that total goals scored per season descreased because of sir alex fergison leave the club and the performance affected on bad way\n",
    "\n",
    "> 3- West ham united have around 40-45 goal per season then have excelent improvment on performance on 2015/2016 season with 65 goal  \n",
    "\n",
    "> 4-  the most preferred foot is Right with average 75% of players.  \n",
    "\n",
    "\n",
    "> **Tip**: Finally, summarize your findings and the results that have been performed. Make sure that you are clear with regards to the limitations of your exploration. If you haven't done any statistical tests, do not imply any statistical conclusions. And make sure you avoid implying causation from correlation!\n",
    "\n",
    "> **Tip**: Once you are satisfied with your work here, check over your report to make sure that it is satisfies all the areas of the rubric (found on the project submission page at the end of the lesson). You should also probably remove all of the \"Tips\" like this one so that the presentation is as polished as possible.\n",
    "\n"
   ]
  },
  {
   "cell_type": "markdown",
   "metadata": {},
   "source": [
    "## Limitations:\n",
    "\n",
    ">1- overall_rating include 836 null values we can't expect from mean or median becasue it will be misleading\n",
    "\n",
    " "
   ]
  },
  {
   "cell_type": "code",
   "execution_count": null,
   "metadata": {},
   "outputs": [],
   "source": []
  }
 ],
 "metadata": {
  "kernelspec": {
   "display_name": "Python 3",
   "language": "python",
   "name": "python3"
  },
  "language_info": {
   "codemirror_mode": {
    "name": "ipython",
    "version": 3
   },
   "file_extension": ".py",
   "mimetype": "text/x-python",
   "name": "python",
   "nbconvert_exporter": "python",
   "pygments_lexer": "ipython3",
   "version": "3.8.5"
  }
 },
 "nbformat": 4,
 "nbformat_minor": 2
}
